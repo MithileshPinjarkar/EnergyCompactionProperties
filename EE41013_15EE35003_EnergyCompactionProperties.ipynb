{
 "cells": [
  {
   "cell_type": "code",
   "execution_count": 11,
   "metadata": {},
   "outputs": [],
   "source": [
    "import matplotlib.pyplot as plt\n",
    "from sklearn.metrics import mean_squared_error as mse\n",
    "import math\n",
    "import numpy as np\n",
    "import random \n",
    "import cmath\n",
    "from numpy import *\n",
    "import time\n",
    "from numpy.linalg import inv"
   ]
  },
  {
   "cell_type": "code",
   "execution_count": 15,
   "metadata": {},
   "outputs": [],
   "source": [
    "\n",
    "def DCT(x):\n",
    "    N = len(x)\n",
    "    C_matrix = np.ndarray(shape=(N,N), dtype=np.complex128)\n",
    "    for i in range(N):\n",
    "        for j in range(N):\n",
    "            C_matrix[i][j] = (2*math.cos(i*math.pi*(2*j+1)/(2*N)))\n",
    "    x = np.matrix(x)\n",
    "    DCT_x = C_matrix.dot(x.T).tolist()\n",
    "    DCT_x = [y for x in DCT_x for y in x]\n",
    "    return DCT_x\n",
    "def IDCT(X):\n",
    "    N = len(X)\n",
    "    C_matrix = np.ndarray(shape=(N,N), dtype=np.complex128)\n",
    "    for i in range(N):\n",
    "        for j in range(N):\n",
    "            C_matrix[i][j] = (2*math.cos(i*math.pi*(2*j+1)/(2*N)))\n",
    "    X = np.matrix(X)\n",
    "    IC_matrix = inv(C_matrix)\n",
    "    ICFT_X = IC_matrix.dot(X.T).tolist()\n",
    "    ICFT_X = [y for x in ICFT_X for y in x]\n",
    "    return ICFT_X\n",
    "def DFT(x):\n",
    "    N = len(x)\n",
    "    W = complex(math.cos(2*math.pi/N), -math.sin(2*math.pi/N))\n",
    "    W_matrix = np.ndarray(shape=(N,N), dtype=np.complex128)\n",
    "    for i in range(N):\n",
    "        for j in range(N):\n",
    "            W_matrix[i][j] = (W**(i*j))\n",
    "    x = np.matrix(x)\n",
    "    DFT_x = W_matrix.dot(x.T).tolist()\n",
    "    DFT_x = [y for x in DFT_x for y in x]\n",
    "    return DFT_x\n",
    "def IDFT(X):\n",
    "    N = len(X)\n",
    "    W = complex(math.cos(2*math.pi/N), -math.sin(2*math.pi/N))\n",
    "    W_matrix = np.ndarray(shape=(N,N), dtype=np.complex128)\n",
    "    for i in range(N):\n",
    "        for j in range(N):\n",
    "            W_matrix[i][j] = (W**(i*j))\n",
    "    X = np.matrix(X)\n",
    "    IW_matrix = inv(W_matrix)\n",
    "    IDFT_X = IW_matrix.dot(X.T).tolist()\n",
    "    IDFT_X = [y for x in IDFT_X for y in x]\n",
    "    return IDFT_X\n",
    "def Haarm(n):\n",
    "    Level1 = math.log(n, 2)\n",
    "    Level = int(Level1)+1\n",
    "\n",
    "    #Initialization\n",
    "    H = [1]\n",
    "    NC = 1 / math.sqrt(2)    #normalization constant\n",
    "    LP = [1, 1]\n",
    "    HP = [1,-1]\n",
    "\n",
    "    for i in range(1,Level):\n",
    "        H = np.dot(NC, np.concatenate([np.matrix(np.kron(H, LP)), np.matrix(np.kron(np.eye(len(H)), HP))]))\n",
    "    return H\n",
    "def Harr(x):\n",
    "    N = len(x)\n",
    "    H_matrix = Haarm(N)\n",
    "    x = np.matrix(x)\n",
    "    Harr_x = H_matrix.dot(x.T).tolist()\n",
    "    Harr_x = [y for x in Harr_x for y in x]\n",
    "    return Harr_x \n",
    "def IHarr(X):\n",
    "    N = len(X)\n",
    "    H_matrix = haarMatrix(N)\n",
    "    X = np.matrix(X)\n",
    "    IH_matrix = inv(H_matrix)\n",
    "    IHarr_X = IH_matrix.dot(X.T).tolist()\n",
    "    IHarr_X = [y for x in IHarr_X for y in x]\n",
    "    return IHarr_X"
   ]
  },
  {
   "cell_type": "code",
   "execution_count": 16,
   "metadata": {},
   "outputs": [],
   "source": [
    "\n",
    "def X_m_DFT(X, L):\n",
    "    N = len(X)\n",
    "    Z = [0]*N\n",
    "    for i in range(int(((N-L-1)/2))+ 1):\n",
    "        Z[i] = X[i]\n",
    "    for j in range(int((N+L+1)/2),N):\n",
    "        Z[j] = X[j]\n",
    "    return Z\n",
    "def X_m_Harr(X, L):\n",
    "    N = len(X)\n",
    "    Z = [0]*N\n",
    "    for k in range(N-L):\n",
    "        Z[k] = X[k] \n",
    "    return Z\n",
    "def X_m_DCT(X, L):\n",
    "    N = len(X)\n",
    "    Z = [0]*N\n",
    "    for i in range(N-L):\n",
    "        Z[i] = Z[i] + X[i] \n",
    "    return Z"
   ]
  },
  {
   "cell_type": "code",
   "execution_count": 17,
   "metadata": {},
   "outputs": [],
   "source": [
    "\n",
    "def Energy(x, x_m):\n",
    "    N = len(x)\n",
    "    E = 0\n",
    "    for i in range(N):\n",
    "        E = E + ((x[i] - x_m[i])**2)\n",
    "    return (E/N)\n",
    "def Energy_DFT(x, x_m):\n",
    "    N = len(x)\n",
    "    E = 0\n",
    "    for i in range(N):\n",
    "        Com = x[i] - x_m[i]\n",
    "        E = E + ((Com.real)**2)+((Com.imag)**2)\n",
    "    return (E/N)\n",
    "def Energy_all(x):\n",
    "    DFT_Enegy = []\n",
    "    DCT_Enegy = []\n",
    "    Harr_Enegy = []\n",
    "    len_ = len(x)\n",
    "    x_ = []\n",
    "    for i in range(len_):\n",
    "        x_.append(complex(x[i]))\n",
    "    DFT_X = DFT(x_)\n",
    "    DCT_X = DCT(x)\n",
    "    Harr_X = Harr(x)\n",
    "    for i in range(0, len_):\n",
    "        DFT_Enegy.append(Energy_DFT(x, IDFT(X_m_DFT(DFT_X, i))))\n",
    "        DCT_Enegy.append(Energy(x, IDCT(X_m_DCT(DCT_X, i))))\n",
    "        Harr_Enegy.append(Energy(x, IHarr(X_m_Harr(Harr_X, i))))\n",
    "    return DFT_Enegy, DCT_Enegy, Harr_Enegy"
   ]
  },
  {
   "cell_type": "code",
   "execution_count": 18,
   "metadata": {},
   "outputs": [
    {
     "name": "stderr",
     "output_type": "stream",
     "text": [
      "C:\\Users\\mithilesh\\Anaconda3\\lib\\site-packages\\numpy\\core\\numeric.py:492: ComplexWarning: Casting complex values to real discards the imaginary part\n",
      "  return array(a, dtype, copy=False, order=order)\n"
     ]
    },
    {
     "data": {
      "image/png": "[encoded data removed]",
      "text/plain": [
       "<Figure size 432x288 with 1 Axes>"
      ]
     },
     "metadata": {},
     "output_type": "display_data"
    }
   ],
   "source": [
    "x = []\n",
    "N = []\n",
    "n = 64\n",
    "for i in range(n):\n",
    "    x.append(random.uniform(0, 100))\n",
    "for i in range(n):\n",
    "    N.append(i)\n",
    "DFT_Enegy, DCT_Enegy, Harr_Enegy = Energy_all(x)\n",
    "plt.plot(N, DFT_Enegy, 'b--')\n",
    "plt.plot(N, DCT_Enegy, 'g')\n",
    "plt.plot(N, Harr_Enegy, 'r')\n",
    "plt.show()"
   ]
  },
  {
   "cell_type": "code",
   "execution_count": 19,
   "metadata": {},
   "outputs": [
    {
     "name": "stdout",
     "output_type": "stream",
     "text": [
      "[(33+0j), (-6.000000000000002+2.9999999999999987j), (-5-2.5717582782094417e-15j), (-5.999999999999996-3.0000000000000036j)]\n",
      "[(8.25-5.551115123125788e-16j), (-1.5000000000000004-0.75j), (-1.2500000000000004+5.27355936696949e-16j), (-1.4999999999999991+0.7500000000000002j)]\n",
      "[(66+0j), (-14.46504718461837+0j), (-4.242640687119293+0j), (-1.662049923066121+0j)]\n",
      "[(5.16790545699294+0j), (-3.043068802642228+0j), (0.5075348967094899+0j), (-0.6323715510602019+0j)]\n",
      "[16.499999999999996, -4.5, -2.82842712474619, -0.707106781186547]\n",
      "[13.071067811865477, -1.0710678118654737, 5.778174593052023, -9.778174593052023]\n"
     ]
    }
   ],
   "source": [
    "x = [4, 8, 10, 11]\n",
    "n = 4\n",
    "print(DFT(x))\n",
    "print(IDFT(x))\n",
    "print(DCT(x))\n",
    "print(IDCT(x))\n",
    "print(Harr(x))\n",
    "print(IHarr(x))"
   ]
  },
  {
   "cell_type": "code",
   "execution_count": null,
   "metadata": {},
   "outputs": [],
   "source": []
  }
 ],
 "metadata": {
  "kernelspec": {
   "display_name": "Python 3",
   "language": "python",
   "name": "python3"
  },
  "language_info": {
   "codemirror_mode": {
    "name": "ipython",
    "version": 3
   },
   "file_extension": ".py",
   "mimetype": "text/x-python",
   "name": "python",
   "nbconvert_exporter": "python",
   "pygments_lexer": "ipython3",
   "version": "3.6.5"
  }
 },
 "nbformat": 4,
 "nbformat_minor": 2
}
